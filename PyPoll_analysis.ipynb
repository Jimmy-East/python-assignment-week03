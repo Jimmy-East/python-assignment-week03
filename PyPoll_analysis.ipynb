{
 "cells": [
  {
   "cell_type": "code",
   "execution_count": 12,
   "id": "06e803e1-3279-4888-ae6a-d6124f855e5b",
   "metadata": {
    "tags": []
   },
   "outputs": [
    {
     "name": "stdout",
     "output_type": "stream",
     "text": [
      "Election Results\n",
      "--------------------------------------\n",
      "Total Votes: 369711\n",
      "Charles Casper Stockham: 23.05% (85213 votes)\n",
      "Diana DeGette: 73.81% (272892 votes)\n",
      "Raymon Anthony Doane: 3.14% (11606 votes)\n",
      "--------------------------------------\n",
      "Winner: Diana DeGette\n",
      "--------------------------------------\n"
     ]
    }
   ],
   "source": [
    "# Modules\n",
    "import os\n",
    "import csv\n",
    "\n",
    "# Set path for file\n",
    "csv_path = os.path.join('Starter_Code', 'PyPoll', 'Resources', 'election_data.csv')\n",
    "\n",
    "# Output file path\n",
    "output_path = os.path.join('election_results.txt')\n",
    "\n",
    "# Initialize variables\n",
    "votes_total = 0 \n",
    "candidate_votes = {}\n",
    "\n",
    "with open(csv_path) as csv_file:\n",
    "    \n",
    "    # Read file\n",
    "    csv_election_data = csv.reader(csv_file, delimiter=',')\n",
    "\n",
    "    # Skip the header row\n",
    "    next(csv_election_data)\n",
    "    \n",
    "    # Loop through the CSV file contents\n",
    "    for row in csv_election_data:\n",
    "        votes_total += 1\n",
    "        candidate_name = row[2]\n",
    "        candidate_votes[candidate_name] = candidate_votes.get(candidate_name, 0) + 1  # Update the vote count\n",
    "\n",
    "# Determine the winner\n",
    "winner = max(candidate_votes, key=candidate_votes.get)\n",
    "    \n",
    "# Display the list of candidates who received votes and their vote counts\n",
    "with open(output_path, 'a') as output_file:\n",
    "    output_file.write(\"Election Results\\n\")\n",
    "    output_file.write(\"--------------------------------------\\n\")\n",
    "    output_file.write(f'Total Votes: {votes_total}\\n')\n",
    "    print(\"Election Results\")\n",
    "    print(\"--------------------------------------\")\n",
    "    print(f'Total Votes: {votes_total}')\n",
    "    \n",
    "    # Iterate over candidates and write their results\n",
    "    for candidate, votes in candidate_votes.items():    \n",
    "        percentage = (votes / votes_total) * 100\n",
    "        output_file.write(f\"{candidate}: {percentage:.2f}% ({votes} votes)\\n\")\n",
    "        print(f\"{candidate}: {percentage:.2f}% ({votes} votes)\")\n",
    "\n",
    "    output_file.write(\"--------------------------------------\\n\")\n",
    "    output_file.write(f\"Winner: {winner}\\n\")\n",
    "    output_file.write(\"--------------------------------------\\n\")\n",
    "    print(\"--------------------------------------\")\n",
    "    print(\"Winner:\", winner)\n",
    "    print(\"--------------------------------------\")\n"
   ]
  },
  {
   "cell_type": "code",
   "execution_count": null,
   "id": "ddea5da4-6b88-4647-8760-70b02c05ae2d",
   "metadata": {},
   "outputs": [],
   "source": []
  }
 ],
 "metadata": {
  "kernelspec": {
   "display_name": "Python 3 (ipykernel)",
   "language": "python",
   "name": "python3"
  },
  "language_info": {
   "codemirror_mode": {
    "name": "ipython",
    "version": 3
   },
   "file_extension": ".py",
   "mimetype": "text/x-python",
   "name": "python",
   "nbconvert_exporter": "python",
   "pygments_lexer": "ipython3",
   "version": "3.11.5"
  }
 },
 "nbformat": 4,
 "nbformat_minor": 5
}
